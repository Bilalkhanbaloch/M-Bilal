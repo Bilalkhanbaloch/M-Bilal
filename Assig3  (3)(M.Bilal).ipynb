{
 "cells": [
  {
   "cell_type": "code",
   "execution_count": 30,
   "metadata": {},
   "outputs": [
    {
     "name": "stdout",
     "output_type": "stream",
     "text": [
      "Almida Special\n",
      "Shahi\n",
      "mughlai\n",
      "I like Almida Special\n",
      "I like Shahi pizza\n",
      "I like mughlai pizza\n",
      "\n",
      "I really love pizza \n"
     ]
    }
   ],
   "source": [
    "#Assig No 4.1\n",
    "pizza=['Almida Special','Shahi','mughlai']\n",
    "for pizzas in pizza:\n",
    "    print(pizzas)\n",
    "\n",
    "pizza=['Almida Special','Shahi pizza','mughlai pizza']\n",
    "for food in pizza:\n",
    "    print(\"I like \" + food +\"\" )\n",
    "print(\"\\nI really love pizza \")"
   ]
  },
  {
   "cell_type": "code",
   "execution_count": 4,
   "metadata": {},
   "outputs": [
    {
     "name": "stdout",
     "output_type": "stream",
     "text": [
      "1\n",
      "8\n",
      "27\n",
      "64\n",
      "125\n",
      "216\n",
      "343\n",
      "512\n",
      "729\n",
      "1000\n"
     ]
    }
   ],
   "source": [
    "#Assig no 4.9\n",
    "\n",
    "Cubes_10=[]\n",
    "for num in range(1,11):\n",
    "    cubes=num ** 3\n",
    "    Cubes_10.append(cubes)\n",
    "    print(cubes)\n",
    "\n"
   ]
  }
 ],
 "metadata": {
  "interpreter": {
   "hash": "62da4375b4cec8d583d7d0f1251288b43c828f7a1fb602d4976a7be141aef817"
  },
  "kernelspec": {
   "display_name": "Python 3.10.4 64-bit",
   "language": "python",
   "name": "python3"
  },
  "language_info": {
   "codemirror_mode": {
    "name": "ipython",
    "version": 3
   },
   "file_extension": ".py",
   "mimetype": "text/x-python",
   "name": "python",
   "nbconvert_exporter": "python",
   "pygments_lexer": "ipython3",
   "version": "3.10.4"
  },
  "orig_nbformat": 4
 },
 "nbformat": 4,
 "nbformat_minor": 2
}
