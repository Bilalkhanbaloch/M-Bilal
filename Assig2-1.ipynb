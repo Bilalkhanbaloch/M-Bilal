{
 "cells": [
  {
   "cell_type": "code",
   "execution_count": 1,
   "metadata": {},
   "outputs": [
    {
     "name": "stdout",
     "output_type": "stream",
     "text": [
      "['Bilal', 'Rameez', 'arif', 'Asif', 'naeem']\n"
     ]
    }
   ],
   "source": [
    "#Assig 3.1\n",
    "list = ['Bilal', 'Rameez', 'arif', 'Asif', 'naeem']\n",
    "print(list)"
   ]
  },
  {
   "cell_type": "code",
   "execution_count": 2,
   "metadata": {},
   "outputs": [
    {
     "name": "stdout",
     "output_type": "stream",
     "text": [
      "Hey how are you Khan.\n",
      "Hey how are you Rameez.\n",
      "Hey how are you Saad.\n",
      "Hey how are you Baloch.\n",
      "Hey how are you Waseem.\n"
     ]
    }
   ],
   "source": [
    "#Assig 3.2\n",
    "list = ['Khan', 'Rameez', 'Saad', 'Baloch', 'Waseem']\n",
    "print(\"Hey how are you \"+list[0].title()+'.')\n",
    "print(\"Hey how are you \"+list[1].title()+'.')\n",
    "print(\"Hey how are you \"+list[2].title()+'.')\n",
    "print(\"Hey how are you \"+list[3].title()+'.')\n",
    "print(\"Hey how are you \"+list[4].title()+'.')  "
   ]
  },
  {
   "cell_type": "code",
   "execution_count": 3,
   "metadata": {},
   "outputs": [
    {
     "name": "stdout",
     "output_type": "stream",
     "text": [
      "I Would like to own Civic.\n",
      "I Would like to own Mark X.\n",
      "I Would like to own City.\n",
      "I Would like to own Alisvan.\n"
     ]
    }
   ],
   "source": [
    "#Assig 3.3\n",
    "Car=['Civic','Mark X','City','Alisvan']\n",
    "print (\"I Would like to own \"+ Car[0]+'.')\n",
    "print (\"I Would like to own \"+ Car[1]+'.')\n",
    "print (\"I Would like to own \"+ Car[2]+'.')\n",
    "print (\"I Would like to own \"+ Car[3]+'.')"
   ]
  },
  {
   "cell_type": "code",
   "execution_count": 5,
   "metadata": {},
   "outputs": [
    {
     "name": "stdout",
     "output_type": "stream",
     "text": [
      "['Ahmad', 'naeem', 'Asif', 'aqib']\n",
      "hey dear you are invited for a dinner Ahmad.\n",
      "hey dear you are invited for a dinner Naeem.\n",
      "hey dear you are invited for a dinner Asif.\n"
     ]
    }
   ],
   "source": [
    "#Assig 3.4\n",
    "\n",
    "Guests=['Ahmad','naeem','Asif','aqib']\n",
    "print(Guests)\n",
    "print (\"hey dear you are invited for a dinner \" +Guests[0].title()+ '.')\n",
    "print (\"hey dear you are invited for a dinner \" +Guests[1].title()+ '.')\n",
    "print (\"hey dear you are invited for a dinner \" +Guests[2].title()+ '.')"
   ]
  },
  {
   "cell_type": "code",
   "execution_count": 4,
   "metadata": {},
   "outputs": [
    {
     "name": "stdout",
     "output_type": "stream",
     "text": [
      "['Bilal', 'Daood', 'kashif', 'rashid']\n",
      "hey dear you are invited for a dinner Bilal.\n",
      "hey dear you are invited for a dinner Daood.\n",
      "hey dear you are invited for a dinner Kashif.\n",
      "Sorry BilalCant make it to dinner\n",
      "['Rehman', 'Daood', 'kashif', 'rashid']\n",
      "hey dear you are invited for a dinner Rehman.\n"
     ]
    }
   ],
   "source": [
    "#Assig 3.5\n",
    "Guests=['Bilal','Daood','kashif','rashid']\n",
    "print(Guests)\n",
    "print (\"hey dear you are invited for a dinner \" +Guests[0].title()+ '.')\n",
    "print (\"hey dear you are invited for a dinner \" +Guests[1].title()+ '.')\n",
    "print (\"hey dear you are invited for a dinner \" +Guests[2].title()+ '.')\n",
    "\n",
    "print (\"Sorry \"+ Guests[0].title()+ \"Cant make it to dinner\" )\n",
    "del Guests[0]\n",
    "Guests.insert(0,'Rehman')\n",
    "print (Guests)\n",
    "print (\"hey dear you are invited for a dinner \" + Guests[0].title()+ '.')\n"
   ]
  },
  {
   "cell_type": "code",
   "execution_count": 15,
   "metadata": {},
   "outputs": [
    {
     "name": "stdout",
     "output_type": "stream",
     "text": [
      "['Ahmad', 'Waleed', 'Asif', 'aqib']\n",
      "hey dear you are invited for a dinner Ahmad.\n",
      "hey dear you are invited for a dinner Waleed.\n",
      "hey dear you are invited for a dinner Asif.\n",
      "cant make a dinner\n",
      "['Ahmad', 'Waleed', 'Asif', 'aqib']\n",
      "hey dear you are invited for a dinner Ahmad.\n",
      "hey dear you are invited for a dinner Waleed.\n",
      "hey dear you are invited for a dinner Asif.\n",
      "Sorry AhmadCant make it to dinner\n",
      "['Rehman', 'Waleed', 'Asif', 'aqib']\n",
      "hey dear you are invited for a dinner Rehman.\n",
      "Found Bigger Table\n",
      "['Rehman', 'Waleed', 'Asif', 'aqib']\n",
      "hey dear you are invited for a dinner Ibrahim.\n",
      "hey dear you are invited for a dinner Ali.\n",
      "['Rehman', 'Waleed', 'Asif', 'aqib', 'ibrahim', 'Ali']\n"
     ]
    }
   ],
   "source": [
    "#Assig 3.6\n",
    "Guests=['Ahmad','Waleed','Asif','aqib']\n",
    "print(Guests)\n",
    "print (\"hey dear you are invited for a dinner \" +Guests[0].title()+ '.')\n",
    "print (\"hey dear you are invited for a dinner \" +Guests[1].title()+ '.')\n",
    "print (\"hey dear you are invited for a dinner \" +Guests[2].title()+ '.')\n",
    "print(\"cant make a dinner\")\n",
    "Guests=['Ahmad','Waleed','Asif','aqib']\n",
    "print(Guests)\n",
    "print (\"hey dear you are invited for a dinner \" +Guests[0].title()+ '.')\n",
    "print (\"hey dear you are invited for a dinner \" +Guests[1].title()+ '.')\n",
    "print (\"hey dear you are invited for a dinner \" +Guests[2].title()+ '.')\n",
    "\n",
    "print (\"Sorry \"+ Guests[0].title()+ \"Cant make it to dinner\" )\n",
    "del Guests[0]\n",
    "Guests.insert(0,'Rehman')\n",
    "print (Guests)\n",
    "print (\"hey dear you are invited for a dinner \" + Guests[0].title()+ '.')\n",
    "print (\"Found Bigger Table\")\n",
    "print(Guests)\n",
    "Guests.insert(4,\"ibrahim\")\n",
    "print (\"hey dear you are invited for a dinner \" + Guests[4].title()+ '.')\n",
    "Guests.insert(5,\"Ali\")\n",
    "print (\"hey dear you are invited for a dinner \" + Guests[5].title()+ '.')\n",
    "print(Guests)"
   ]
  },
  {
   "cell_type": "code",
   "execution_count": 1,
   "metadata": {},
   "outputs": [
    {
     "name": "stdout",
     "output_type": "stream",
     "text": [
      "['Ahmad', 'Waleed', 'Asif', 'aqib']\n",
      "hey dear you are invited for a dinner Ahmad.\n",
      "hey dear you are invited for a dinner Waleed.\n",
      "hey dear you are invited for a dinner Asif.\n",
      "cant make a dinner\n",
      "['Ahmad', 'Waleed', 'Asif', 'aqib']\n",
      "hey dear you are invited for a dinner Ahmad.\n",
      "hey dear you are invited for a dinner Waleed.\n",
      "hey dear you are invited for a dinner Asif.\n",
      "Sorry AhmadCant make it to dinner\n",
      "['Rehman', 'Waleed', 'Asif', 'aqib']\n",
      "hey dear you are invited for a dinner Rehman.\n",
      "Found Bigger Table\n",
      "hey dear you are invited for a dinner Ibrahim.\n",
      "hey dear you are invited for a dinner Imran.\n",
      "['Rehman', 'Waleed', 'Asif', 'aqib', 'Ibrahim', 'Imran']\n",
      "sorry you cant invite them to dinner Rehman.\n",
      "sorry you cant invite them to dinner Waleed.\n",
      "sorry you cant invite them to dinner Asif.\n",
      "sorry you cant invite them to dinner Aqib.\n",
      "You are invited for dinner Ibrahim.\n",
      "You are invited for dinner Imran.\n"
     ]
    }
   ],
   "source": [
    "#Assig 3.7\n",
    "Guests=['Ahmad','Waleed','Asif','aqib']\n",
    "print(Guests)\n",
    "print (\"hey dear you are invited for a dinner \" +Guests[0].title()+ '.')\n",
    "print (\"hey dear you are invited for a dinner \" +Guests[1].title()+ '.')\n",
    "print (\"hey dear you are invited for a dinner \" +Guests[2].title()+ '.')\n",
    "print(\"cant make a dinner\")\n",
    "Guests=['Ahmad','Waleed','Asif','aqib']\n",
    "print(Guests)\n",
    "print (\"hey dear you are invited for a dinner \" +Guests[0].title()+ '.')\n",
    "print (\"hey dear you are invited for a dinner \" +Guests[1].title()+ '.')\n",
    "print (\"hey dear you are invited for a dinner \" +Guests[2].title()+ '.')\n",
    "print (\"Sorry \"+ Guests[0].title()+ \"Cant make it to dinner\" )\n",
    "del Guests[0]\n",
    "Guests.insert(0,'Rehman')\n",
    "print (Guests)\n",
    "print (\"hey dear you are invited for a dinner \" + Guests[0].title()+ '.')\n",
    "print (\"Found Bigger Table\")\n",
    "Guests.insert(4,'Ibrahim')\n",
    "print (\"hey dear you are invited for a dinner \" + Guests[4].title()+ '.')\n",
    "Guests.insert(5,'Imran')\n",
    "print (\"hey dear you are invited for a dinner \" + Guests[5].title()+ '.')\n",
    "print(Guests)\n",
    "print (\"sorry you cant invite them to dinner \" + Guests[0].title()+ '.')\n",
    "print (\"sorry you cant invite them to dinner \" + Guests[1].title()+ '.')\n",
    "print (\"sorry you cant invite them to dinner \" + Guests[2].title()+ '.')\n",
    "print (\"sorry you cant invite them to dinner \" + Guests[3].title()+ '.')\n",
    "print (\"You are invited for dinner \" + Guests[4].title()+ '.')\n",
    "print (\"You are invited for dinner \" + Guests[5].title()+ '.')\n",
    "#Guests.pop(0)\n",
    "#Guests.pop(1)\n",
    "#Guests.pop(2)\n",
    "#Guests.pop(4)"
   ]
  },
  {
   "cell_type": "code",
   "execution_count": 25,
   "metadata": {},
   "outputs": [
    {
     "name": "stdout",
     "output_type": "stream",
     "text": [
      "['Lahore', 'Multan', 'Okara', 'sahiwal', 'Khenawal']\n",
      "Sourted List\n",
      "['Khenawal', 'Lahore', 'Multan', 'Okara', 'sahiwal']\n",
      "['Ali Pur', 'Lahore', 'Multan', 'Okara', 'sahiwal']\n",
      "['Lahore', 'Multan', 'Okara', 'sahiwal', 'Ali Pur']\n",
      "['sahiwal', 'Okara', 'Multan', 'Lahore', 'Ali Pur']\n",
      "['Lahore', 'Multan', 'Okara', 'sahiwal', 'Ali Pur']\n",
      "['sahiwal', 'Okara', 'Multan', 'Lahore', 'Ali Pur']\n",
      "['Lahore', 'Multan', 'Okara', 'sahiwal', 'Ali Pur']\n",
      "['Ali Pur', 'Lahore', 'Multan', 'Okara', 'sahiwal']\n"
     ]
    }
   ],
   "source": [
    "#Assig 3.8\n",
    "Places=['Lahore','Multan','Okara','sahiwal','Khenawal']\n",
    "print(Places)\n",
    "print (\"Sourted List\")\n",
    "Places.sort()\n",
    "print(Places)\n",
    "Places=['Lahore','Multan','Okara','sahiwal','Ali Pur']\n",
    "print(sorted(Places))\n",
    "print(Places)\n",
    "print(sorted(Places, reverse=True))\n",
    "print(Places)\n",
    "print(sorted(Places, reverse=True))\n",
    "print(Places)\n",
    "Places.sort()\n",
    "print(Places)"
   ]
  },
  {
   "cell_type": "code",
   "execution_count": 37,
   "metadata": {},
   "outputs": [
    {
     "name": "stdout",
     "output_type": "stream",
     "text": [
      "['Ahmad', 'Waleed', 'Asif', 'aqib']\n",
      "sorry you are not invited Ahmad.\n",
      "['Waleed', 'Asif', 'aqib']\n",
      "sorry you are not invited Asif.\n",
      "sorry you are  invited Waleed.\n",
      "sorry you are  invited aqib.\n"
     ]
    },
    {
     "data": {
      "text/plain": [
       "2"
      ]
     },
     "execution_count": 37,
     "metadata": {},
     "output_type": "execute_result"
    }
   ],
   "source": [
    "#Assig 3.9\n",
    "Guests=['Ahmad','Waleed','Asif','aqib']\n",
    "print(Guests)\n",
    "print(\"sorry you are not invited \"+Guests[0]+'.')\n",
    "del Guests[0]\n",
    "print(Guests)\n",
    "print(\"sorry you are not invited \"+Guests[1]+'.')\n",
    "del Guests[1]\n",
    "print(\"sorry you are  invited \"+Guests[0]+'.')\n",
    "print(\"sorry you are  invited \"+Guests[1]+'.')\n",
    "len(Guests)"
   ]
  },
  {
   "cell_type": "code",
   "execution_count": 14,
   "metadata": {},
   "outputs": [
    {
     "name": "stdout",
     "output_type": "stream",
     "text": [
      "['Mango', 'Banana', 'Orange', 'apple']\n",
      "sorry you are  invited Banana.\n",
      "['Mango', 'Banana', 'Orange', 'apple']\n",
      "['Guava', 'Banana', 'Orange', 'apple', 'Apple']\n",
      "['Guava', 'Banana', 'Orange', 'apple', 'Apple', 'mango']\n",
      "['Banana', 'Orange', 'apple', 'Apple', 'mango']\n",
      "['Apple', 'Banana', 'Orange', 'apple', 'mango']\n",
      "['mango', 'apple', 'Orange', 'Banana', 'Apple']\n"
     ]
    },
    {
     "data": {
      "text/plain": [
       "5"
      ]
     },
     "execution_count": 14,
     "metadata": {},
     "output_type": "execute_result"
    }
   ],
   "source": [
    "#Assig 3.10\n",
    "fruit=['Mango','Banana','Orange','apple']\n",
    "print(fruit)\n",
    "print(\"sorry you are  invited \"+fruit[1]+'.')\n",
    "print(fruit)\n",
    "fruit.insert(4,'Apple')\n",
    "fruit[0] =\"Guava\"\n",
    "print(fruit)\n",
    "fruit.append('mango')\n",
    "print(fruit)\n",
    "del fruit[0]\n",
    "print(fruit)\n",
    "fruit.sort()\n",
    "print(fruit)\n",
    "fruit.reverse()\n",
    "print (fruit)\n",
    "len(fruit)"
   ]
  }
 ],
 "metadata": {
  "interpreter": {
   "hash": "e884fd14947f370f271530bf34ce16b1a3e78eb0d7843a6248e530f13a8416e8"
  },
  "kernelspec": {
   "display_name": "Python 3.9.7 64-bit",
   "language": "python",
   "name": "python3"
  },
  "language_info": {
   "codemirror_mode": {
    "name": "ipython",
    "version": 3
   },
   "file_extension": ".py",
   "mimetype": "text/x-python",
   "name": "python",
   "nbconvert_exporter": "python",
   "pygments_lexer": "ipython3",
   "version": "3.10.4"
  },
  "orig_nbformat": 4
 },
 "nbformat": 4,
 "nbformat_minor": 2
}
